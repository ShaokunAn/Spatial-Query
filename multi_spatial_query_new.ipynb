{
 "cells": [
  {
   "cell_type": "code",
   "execution_count": 1,
   "id": "eea8315c-da1a-4183-b585-9b5f3d85af34",
   "metadata": {},
   "outputs": [],
   "source": [
    "from SpatialQuery.spatial_query import spatial_query\n",
    "from SpatialQuery.spatial_query_multiple_fov import spatial_query_multi\n",
    "import os\n",
    "import anndata as ad\n",
    "import pandas as pd\n",
    "pd.set_option('display.max_colwidth', 1000)"
   ]
  },
  {
   "cell_type": "code",
   "execution_count": 2,
   "id": "c70b9a31-55b3-470b-aabf-9edb3400aab6",
   "metadata": {},
   "outputs": [],
   "source": [
    "data_path = \"/Users/sa3520/BWH/spatial query/python/data/CZI_kidney\""
   ]
  },
  {
   "cell_type": "code",
   "execution_count": 3,
   "id": "490b8864-6ee8-4ab0-9f3a-c1d66c079a3d",
   "metadata": {},
   "outputs": [],
   "source": [
    "data_files = os.listdir(data_path)"
   ]
  },
  {
   "cell_type": "code",
   "execution_count": 4,
   "id": "4f184867-037e-48a7-afaa-4dc765793267",
   "metadata": {},
   "outputs": [],
   "source": [
    "adatas = [ad.read_h5ad(os.path.join(data_path, data)) for data in data_files]"
   ]
  },
  {
   "cell_type": "code",
   "execution_count": 5,
   "id": "39e3d2ec-3f1c-4ea0-b9ea-6e805095a8be",
   "metadata": {},
   "outputs": [],
   "source": [
    "spatial_key = 'X_spatial'\n",
    "label_key = 'cell_type'\n",
    "disease_key = 'disease'"
   ]
  },
  {
   "cell_type": "code",
   "execution_count": 6,
   "id": "f147c41c-a8ae-42af-b895-1e5d608bb460",
   "metadata": {},
   "outputs": [
    {
     "name": "stdout",
     "output_type": "stream",
     "text": [
      "['diabetic kidney disease', 'normal', 'autosomal dominant polycystic kidney disease']\n"
     ]
    }
   ],
   "source": [
    "disease_list = [adata.obs[disease_key].unique()[0] for adata in adatas]\n",
    "disease_list = list(set(disease_list))\n",
    "print(disease_list)"
   ]
  },
  {
   "cell_type": "code",
   "execution_count": 7,
   "id": "5d8736a0-364a-4752-bd96-4c2e5eae28bb",
   "metadata": {},
   "outputs": [],
   "source": [
    "disease_normal_adatas = [adata for adata in adatas if adata.obs[disease_key].unique()[0]=='normal']\n",
    "disease_diabetic_adatas = [adata for adata in adatas if adata.obs[disease_key].unique()[0]=='diabetic kidney disease']"
   ]
  },
  {
   "cell_type": "code",
   "execution_count": 8,
   "id": "f3bb72ff-cd9a-4fc5-81dc-1718ba9c3f79",
   "metadata": {},
   "outputs": [
    {
     "name": "stdout",
     "output_type": "stream",
     "text": [
      "34\n",
      "26\n"
     ]
    }
   ],
   "source": [
    "print(len(disease_normal_adatas))\n",
    "print(len(disease_diabetic_adatas))"
   ]
  },
  {
   "cell_type": "code",
   "execution_count": 9,
   "id": "b50d80a3-cbbb-4305-bb9b-35eca31db5a9",
   "metadata": {},
   "outputs": [],
   "source": [
    "datasets = ['normal'] * len(disease_normal_adatas) + ['diabetic kidney disease'] * len(disease_diabetic_adatas)"
   ]
  },
  {
   "cell_type": "code",
   "execution_count": 10,
   "id": "6bb8d311-a9e9-49d2-85bf-92e8429f44a1",
   "metadata": {
    "scrolled": true
   },
   "outputs": [
    {
     "name": "stdout",
     "output_type": "stream",
     "text": [
      "21181\n",
      "16027\n",
      "25281\n",
      "10888\n",
      "35896\n",
      "13822\n",
      "34638\n",
      "30182\n",
      "34093\n",
      "33006\n",
      "35132\n",
      "21894\n",
      "32070\n",
      "36299\n",
      "20320\n",
      "24438\n",
      "22458\n",
      "20055\n",
      "34355\n",
      "29914\n",
      "33070\n",
      "34844\n",
      "15592\n",
      "27044\n",
      "30888\n",
      "26260\n",
      "30206\n",
      "18568\n",
      "15161\n",
      "29011\n",
      "27814\n",
      "25817\n",
      "20568\n",
      "19471\n",
      "12906\n",
      "29986\n",
      "21814\n",
      "26889\n",
      "25957\n",
      "19156\n",
      "18542\n",
      "26554\n",
      "31600\n",
      "37742\n",
      "26750\n",
      "17138\n",
      "27220\n",
      "27173\n",
      "16787\n",
      "26239\n",
      "20886\n",
      "10250\n",
      "12351\n",
      "32900\n",
      "14558\n",
      "31954\n",
      "14961\n",
      "27639\n",
      "22659\n",
      "32706\n",
      "1499580\n"
     ]
    }
   ],
   "source": [
    "n_obs_sum = 0\n",
    "for adata in disease_normal_adatas+disease_diabetic_adatas:\n",
    "    print(adata.n_obs)\n",
    "    n_obs_sum += adata.n_obs\n",
    "print(n_obs_sum)"
   ]
  },
  {
   "cell_type": "code",
   "execution_count": 11,
   "id": "60bcb995-bbb0-446f-9529-015a91fffb1c",
   "metadata": {},
   "outputs": [
    {
     "data": {
      "text/plain": [
       "cell_type\n",
       "kidney proximal convoluted tubule epithelial cell            532273\n",
       "endothelial cell                                             399542\n",
       "leukocyte                                                    202569\n",
       "kidney loop of Henle thick ascending limb epithelial cell    177504\n",
       "macrophage                                                    48470\n",
       "kidney distal convoluted tubule epithelial cell               43769\n",
       "kidney collecting duct principal cell                         33842\n",
       "blood vessel smooth muscle cell                               26774\n",
       "kidney interstitial fibroblast                                16220\n",
       "kidney collecting duct intercalated cell                       8651\n",
       "podocyte                                                       6423\n",
       "kidney granular cell                                           1448\n",
       "mesangial cell                                                 1294\n",
       "macula densa epithelial cell                                    801\n",
       "Name: count, dtype: int64"
      ]
     },
     "execution_count": 11,
     "metadata": {},
     "output_type": "execute_result"
    }
   ],
   "source": [
    "cell_types = [adata.obs[label_key] for adata in disease_normal_adatas+disease_diabetic_adatas]\n",
    "cell_types = pd.concat(cell_types)\n",
    "cell_types.value_counts()"
   ]
  },
  {
   "cell_type": "code",
   "execution_count": 12,
   "id": "c8138c74-790b-4d5e-87bd-fa9279d83ec6",
   "metadata": {},
   "outputs": [],
   "source": [
    "multi_sp = spatial_query_multi(adatas=disease_normal_adatas+disease_diabetic_adatas,\n",
    "                               datasets=datasets, \n",
    "                               spatial_key=spatial_key,\n",
    "                               label_key=label_key,\n",
    "                               leaf_size=10)"
   ]
  },
  {
   "cell_type": "code",
   "execution_count": 15,
   "id": "4e42d513-e51c-4dfe-9210-fbdd31a9e69d",
   "metadata": {},
   "outputs": [],
   "source": [
    "ct = 'leukocyte'\n",
    "fp_knn = multi_sp.find_fp_knn(ct=ct, dataset='normal', k=20, dis_duplicates=False, min_support=0.4)"
   ]
  },
  {
   "cell_type": "code",
   "execution_count": 16,
   "id": "e4e64d68-a67a-4747-b79a-62fd0d0b8165",
   "metadata": {},
   "outputs": [
    {
     "data": {
      "text/html": [
       "<div>\n",
       "<style scoped>\n",
       "    .dataframe tbody tr th:only-of-type {\n",
       "        vertical-align: middle;\n",
       "    }\n",
       "\n",
       "    .dataframe tbody tr th {\n",
       "        vertical-align: top;\n",
       "    }\n",
       "\n",
       "    .dataframe thead th {\n",
       "        text-align: right;\n",
       "    }\n",
       "</style>\n",
       "<table border=\"1\" class=\"dataframe\">\n",
       "  <thead>\n",
       "    <tr style=\"text-align: right;\">\n",
       "      <th></th>\n",
       "      <th>support</th>\n",
       "      <th>itemsets</th>\n",
       "    </tr>\n",
       "  </thead>\n",
       "  <tbody>\n",
       "    <tr>\n",
       "      <th>0</th>\n",
       "      <td>0.562124</td>\n",
       "      <td>(leukocyte, endothelial cell, kidney proximal convoluted tubule epithelial cell)</td>\n",
       "    </tr>\n",
       "    <tr>\n",
       "      <th>1</th>\n",
       "      <td>0.539357</td>\n",
       "      <td>(kidney loop of Henle thick ascending limb epithelial cell, leukocyte, endothelial cell)</td>\n",
       "    </tr>\n",
       "    <tr>\n",
       "      <th>2</th>\n",
       "      <td>0.424588</td>\n",
       "      <td>(leukocyte, macrophage)</td>\n",
       "    </tr>\n",
       "    <tr>\n",
       "      <th>3</th>\n",
       "      <td>0.423078</td>\n",
       "      <td>(macrophage, endothelial cell)</td>\n",
       "    </tr>\n",
       "  </tbody>\n",
       "</table>\n",
       "</div>"
      ],
      "text/plain": [
       "    support  \\\n",
       "0  0.562124   \n",
       "1  0.539357   \n",
       "2  0.424588   \n",
       "3  0.423078   \n",
       "\n",
       "                                                                                   itemsets  \n",
       "0          (leukocyte, endothelial cell, kidney proximal convoluted tubule epithelial cell)  \n",
       "1  (kidney loop of Henle thick ascending limb epithelial cell, leukocyte, endothelial cell)  \n",
       "2                                                                   (leukocyte, macrophage)  \n",
       "3                                                            (macrophage, endothelial cell)  "
      ]
     },
     "execution_count": 16,
     "metadata": {},
     "output_type": "execute_result"
    }
   ],
   "source": [
    "fp_knn"
   ]
  },
  {
   "cell_type": "code",
   "execution_count": 17,
   "id": "daddc06a-aab2-4035-8d60-98168dd680cd",
   "metadata": {},
   "outputs": [],
   "source": [
    "ct = 'leukocyte'\n",
    "fp_dist = multi_sp.find_fp_dist(ct=ct, dataset='normal', max_dist=100, dis_duplicates=False, min_support=0.4)"
   ]
  },
  {
   "cell_type": "code",
   "execution_count": 18,
   "id": "b590b95d-b22e-49fe-9fbf-f1b6a70edffc",
   "metadata": {},
   "outputs": [
    {
     "data": {
      "text/html": [
       "<div>\n",
       "<style scoped>\n",
       "    .dataframe tbody tr th:only-of-type {\n",
       "        vertical-align: middle;\n",
       "    }\n",
       "\n",
       "    .dataframe tbody tr th {\n",
       "        vertical-align: top;\n",
       "    }\n",
       "\n",
       "    .dataframe thead th {\n",
       "        text-align: right;\n",
       "    }\n",
       "</style>\n",
       "<table border=\"1\" class=\"dataframe\">\n",
       "  <thead>\n",
       "    <tr style=\"text-align: right;\">\n",
       "      <th></th>\n",
       "      <th>support</th>\n",
       "      <th>itemsets</th>\n",
       "    </tr>\n",
       "  </thead>\n",
       "  <tbody>\n",
       "    <tr>\n",
       "      <th>0</th>\n",
       "      <td>0.467528</td>\n",
       "      <td>(kidney loop of Henle thick ascending limb epithelial cell, leukocyte, endothelial cell, kidney proximal convoluted tubule epithelial cell)</td>\n",
       "    </tr>\n",
       "    <tr>\n",
       "      <th>1</th>\n",
       "      <td>0.520607</td>\n",
       "      <td>(kidney loop of Henle thick ascending limb epithelial cell, leukocyte, macrophage, endothelial cell)</td>\n",
       "    </tr>\n",
       "    <tr>\n",
       "      <th>2</th>\n",
       "      <td>0.413089</td>\n",
       "      <td>(leukocyte, macrophage, endothelial cell, kidney proximal convoluted tubule epithelial cell)</td>\n",
       "    </tr>\n",
       "  </tbody>\n",
       "</table>\n",
       "</div>"
      ],
      "text/plain": [
       "    support  \\\n",
       "0  0.467528   \n",
       "1  0.520607   \n",
       "2  0.413089   \n",
       "\n",
       "                                                                                                                                      itemsets  \n",
       "0  (kidney loop of Henle thick ascending limb epithelial cell, leukocyte, endothelial cell, kidney proximal convoluted tubule epithelial cell)  \n",
       "1                                         (kidney loop of Henle thick ascending limb epithelial cell, leukocyte, macrophage, endothelial cell)  \n",
       "2                                                 (leukocyte, macrophage, endothelial cell, kidney proximal convoluted tubule epithelial cell)  "
      ]
     },
     "execution_count": 18,
     "metadata": {},
     "output_type": "execute_result"
    }
   ],
   "source": [
    "fp_dist"
   ]
  },
  {
   "cell_type": "code",
   "execution_count": 13,
   "id": "3d36f3cd-1b3b-47de-a2b7-e6588cd4f757",
   "metadata": {},
   "outputs": [],
   "source": [
    "ct = 'leukocyte'\n",
    "motifs = [['kidney loop of Henle thick ascending limb epithelial cell', 'leukocyte', 'endothelial cell', 'kidney proximal convoluted tubule epithelial cell'], \n",
    "          ['kidney loop of Henle thick ascending limb epithelial cell', 'leukocyte', 'macrophage', 'endothelial cell'],\n",
    "          ['leukocyte', 'macrophage', 'endothelial cell', 'kidney proximal convoluted tubule epithelial cell']]\n",
    "motif_enrichment_knn = []\n",
    "for motif in motifs:\n",
    "    tt = multi_sp.motif_enrichment_knn(ct=ct,\n",
    "                                       motifs=motif,\n",
    "                                       dataset='normal',\n",
    "                                      )\n",
    "    motif_enrichment_knn.append(tt)"
   ]
  },
  {
   "cell_type": "code",
   "execution_count": 14,
   "id": "3dd889f0-0de2-410a-92fa-8c97a2e69e7a",
   "metadata": {},
   "outputs": [],
   "source": [
    "motif_enrichment_knn = pd.concat(motif_enrichment_knn)"
   ]
  },
  {
   "cell_type": "code",
   "execution_count": 15,
   "id": "f04c69e6-26ee-4f1a-9e3d-6468cfbb7463",
   "metadata": {},
   "outputs": [
    {
     "data": {
      "text/html": [
       "<div>\n",
       "<style scoped>\n",
       "    .dataframe tbody tr th:only-of-type {\n",
       "        vertical-align: middle;\n",
       "    }\n",
       "\n",
       "    .dataframe tbody tr th {\n",
       "        vertical-align: top;\n",
       "    }\n",
       "\n",
       "    .dataframe thead th {\n",
       "        text-align: right;\n",
       "    }\n",
       "</style>\n",
       "<table border=\"1\" class=\"dataframe\">\n",
       "  <thead>\n",
       "    <tr style=\"text-align: right;\">\n",
       "      <th></th>\n",
       "      <th>center</th>\n",
       "      <th>motifs</th>\n",
       "      <th>n_center_motif</th>\n",
       "      <th>n_center</th>\n",
       "      <th>n_motif</th>\n",
       "      <th>p-val</th>\n",
       "    </tr>\n",
       "  </thead>\n",
       "  <tbody>\n",
       "    <tr>\n",
       "      <th>0</th>\n",
       "      <td>leukocyte</td>\n",
       "      <td>[endothelial cell, kidney loop of Henle thick ascending limb epithelial cell, kidney proximal convoluted tubule epithelial cell, leukocyte]</td>\n",
       "      <td>33931</td>\n",
       "      <td>119205</td>\n",
       "      <td>207453</td>\n",
       "      <td>0.0</td>\n",
       "    </tr>\n",
       "    <tr>\n",
       "      <th>0</th>\n",
       "      <td>leukocyte</td>\n",
       "      <td>[endothelial cell, kidney loop of Henle thick ascending limb epithelial cell, leukocyte, macrophage]</td>\n",
       "      <td>31237</td>\n",
       "      <td>119205</td>\n",
       "      <td>193242</td>\n",
       "      <td>0.0</td>\n",
       "    </tr>\n",
       "    <tr>\n",
       "      <th>0</th>\n",
       "      <td>leukocyte</td>\n",
       "      <td>[endothelial cell, kidney proximal convoluted tubule epithelial cell, leukocyte, macrophage]</td>\n",
       "      <td>27554</td>\n",
       "      <td>119205</td>\n",
       "      <td>154032</td>\n",
       "      <td>0.0</td>\n",
       "    </tr>\n",
       "  </tbody>\n",
       "</table>\n",
       "</div>"
      ],
      "text/plain": [
       "      center  \\\n",
       "0  leukocyte   \n",
       "0  leukocyte   \n",
       "0  leukocyte   \n",
       "\n",
       "                                                                                                                                        motifs  \\\n",
       "0  [endothelial cell, kidney loop of Henle thick ascending limb epithelial cell, kidney proximal convoluted tubule epithelial cell, leukocyte]   \n",
       "0                                         [endothelial cell, kidney loop of Henle thick ascending limb epithelial cell, leukocyte, macrophage]   \n",
       "0                                                 [endothelial cell, kidney proximal convoluted tubule epithelial cell, leukocyte, macrophage]   \n",
       "\n",
       "   n_center_motif  n_center  n_motif  p-val  \n",
       "0           33931    119205   207453    0.0  \n",
       "0           31237    119205   193242    0.0  \n",
       "0           27554    119205   154032    0.0  "
      ]
     },
     "execution_count": 15,
     "metadata": {},
     "output_type": "execute_result"
    }
   ],
   "source": [
    "motif_enrichment_knn"
   ]
  },
  {
   "cell_type": "code",
   "execution_count": 16,
   "id": "8581c379-f457-4473-84b5-26e864db7d71",
   "metadata": {},
   "outputs": [],
   "source": [
    "ct = 'leukocyte'\n",
    "motifs = [['kidney loop of Henle thick ascending limb epithelial cell', 'leukocyte', 'endothelial cell', 'kidney proximal convoluted tubule epithelial cell'], \n",
    "          ['kidney loop of Henle thick ascending limb epithelial cell', 'leukocyte', 'macrophage', 'endothelial cell'],\n",
    "          ['leukocyte', 'macrophage', 'endothelial cell', 'kidney proximal convoluted tubule epithelial cell']]\n",
    "motif_enrichment_dist = []\n",
    "for motif in motifs:\n",
    "    tt = multi_sp.motif_enrichment_dist(ct=ct, \n",
    "                                       motifs=motif,\n",
    "                                       dataset='normal')\n",
    "    motif_enrichment_dist.append(tt)\n",
    "motif_enrichement_dist = pd.concat(motif_enrichment_dist)"
   ]
  },
  {
   "cell_type": "code",
   "execution_count": null,
   "id": "91c6ce08-e637-4b08-b435-6d20cd85c56c",
   "metadata": {
    "scrolled": true
   },
   "outputs": [],
   "source": [
    "motif_enrichment_dist = pd.concat(motif_enrichment_dist)\n"
   ]
  },
  {
   "cell_type": "code",
   "execution_count": 23,
   "id": "41e64263-00ff-4207-920b-85e28235a36a",
   "metadata": {},
   "outputs": [
    {
     "data": {
      "text/html": [
       "<div>\n",
       "<style scoped>\n",
       "    .dataframe tbody tr th:only-of-type {\n",
       "        vertical-align: middle;\n",
       "    }\n",
       "\n",
       "    .dataframe tbody tr th {\n",
       "        vertical-align: top;\n",
       "    }\n",
       "\n",
       "    .dataframe thead th {\n",
       "        text-align: right;\n",
       "    }\n",
       "</style>\n",
       "<table border=\"1\" class=\"dataframe\">\n",
       "  <thead>\n",
       "    <tr style=\"text-align: right;\">\n",
       "      <th></th>\n",
       "      <th>center</th>\n",
       "      <th>motifs</th>\n",
       "      <th>n_center_motif</th>\n",
       "      <th>n_center</th>\n",
       "      <th>n_motif</th>\n",
       "      <th>p-val</th>\n",
       "    </tr>\n",
       "  </thead>\n",
       "  <tbody>\n",
       "    <tr>\n",
       "      <th>0</th>\n",
       "      <td>leukocyte</td>\n",
       "      <td>[endothelial cell, kidney loop of Henle thick ascending limb epithelial cell, kidney proximal convoluted tubule epithelial cell, leukocyte]</td>\n",
       "      <td>55720</td>\n",
       "      <td>119205</td>\n",
       "      <td>377815</td>\n",
       "      <td>2.712055e-208</td>\n",
       "    </tr>\n",
       "    <tr>\n",
       "      <th>0</th>\n",
       "      <td>leukocyte</td>\n",
       "      <td>[endothelial cell, kidney loop of Henle thick ascending limb epithelial cell, leukocyte, macrophage]</td>\n",
       "      <td>62046</td>\n",
       "      <td>119205</td>\n",
       "      <td>407282</td>\n",
       "      <td>0.000000e+00</td>\n",
       "    </tr>\n",
       "    <tr>\n",
       "      <th>0</th>\n",
       "      <td>leukocyte</td>\n",
       "      <td>[endothelial cell, kidney proximal convoluted tubule epithelial cell, leukocyte, macrophage]</td>\n",
       "      <td>49232</td>\n",
       "      <td>119205</td>\n",
       "      <td>312851</td>\n",
       "      <td>0.000000e+00</td>\n",
       "    </tr>\n",
       "  </tbody>\n",
       "</table>\n",
       "</div>"
      ],
      "text/plain": [
       "      center  \\\n",
       "0  leukocyte   \n",
       "0  leukocyte   \n",
       "0  leukocyte   \n",
       "\n",
       "                                                                                                                                        motifs  \\\n",
       "0  [endothelial cell, kidney loop of Henle thick ascending limb epithelial cell, kidney proximal convoluted tubule epithelial cell, leukocyte]   \n",
       "0                                         [endothelial cell, kidney loop of Henle thick ascending limb epithelial cell, leukocyte, macrophage]   \n",
       "0                                                 [endothelial cell, kidney proximal convoluted tubule epithelial cell, leukocyte, macrophage]   \n",
       "\n",
       "   n_center_motif  n_center  n_motif          p-val  \n",
       "0           55720    119205   377815  2.712055e-208  \n",
       "0           62046    119205   407282   0.000000e+00  \n",
       "0           49232    119205   312851   0.000000e+00  "
      ]
     },
     "execution_count": 23,
     "metadata": {},
     "output_type": "execute_result"
    }
   ],
   "source": [
    "motif_enrichment_dist"
   ]
  },
  {
   "cell_type": "code",
   "execution_count": 30,
   "id": "316c6ab1-3a17-48e3-9e7c-307b4dcdc9d6",
   "metadata": {},
   "outputs": [],
   "source": [
    "ct = 'leukocyte'\n",
    "fp0, fp1 = multi_sp.differential_analysis_knn(ct=ct,\n",
    "                                     datasets=['normal', 'diabetic kidney disease'],\n",
    "                                     min_support=0.1,\n",
    ")"
   ]
  },
  {
   "cell_type": "code",
   "execution_count": 31,
   "id": "a005c99a-c995-4354-bb79-80aeb65553f5",
   "metadata": {},
   "outputs": [
    {
     "data": {
      "text/html": [
       "<div>\n",
       "<style scoped>\n",
       "    .dataframe tbody tr th:only-of-type {\n",
       "        vertical-align: middle;\n",
       "    }\n",
       "\n",
       "    .dataframe tbody tr th {\n",
       "        vertical-align: top;\n",
       "    }\n",
       "\n",
       "    .dataframe thead th {\n",
       "        text-align: right;\n",
       "    }\n",
       "</style>\n",
       "<table border=\"1\" class=\"dataframe\">\n",
       "  <thead>\n",
       "    <tr style=\"text-align: right;\">\n",
       "      <th></th>\n",
       "      <th>itemsets</th>\n",
       "      <th>corrected_p_values</th>\n",
       "    </tr>\n",
       "  </thead>\n",
       "  <tbody>\n",
       "  </tbody>\n",
       "</table>\n",
       "</div>"
      ],
      "text/plain": [
       "Empty DataFrame\n",
       "Columns: [itemsets, corrected_p_values]\n",
       "Index: []"
      ]
     },
     "execution_count": 31,
     "metadata": {},
     "output_type": "execute_result"
    }
   ],
   "source": [
    "fp0"
   ]
  },
  {
   "cell_type": "code",
   "execution_count": 32,
   "id": "0fcc1717-23ba-4f30-a43d-f7c63e16bb1d",
   "metadata": {},
   "outputs": [
    {
     "data": {
      "text/html": [
       "<div>\n",
       "<style scoped>\n",
       "    .dataframe tbody tr th:only-of-type {\n",
       "        vertical-align: middle;\n",
       "    }\n",
       "\n",
       "    .dataframe tbody tr th {\n",
       "        vertical-align: top;\n",
       "    }\n",
       "\n",
       "    .dataframe thead th {\n",
       "        text-align: right;\n",
       "    }\n",
       "</style>\n",
       "<table border=\"1\" class=\"dataframe\">\n",
       "  <thead>\n",
       "    <tr style=\"text-align: right;\">\n",
       "      <th></th>\n",
       "      <th>itemsets</th>\n",
       "      <th>corrected_p_values</th>\n",
       "    </tr>\n",
       "  </thead>\n",
       "  <tbody>\n",
       "    <tr>\n",
       "      <th>16</th>\n",
       "      <td>(kidney loop of Henle thick ascending limb epithelial cell, kidney proximal convoluted tubule epithelial cell, endothelial cell)</td>\n",
       "      <td>2.705346e-09</td>\n",
       "    </tr>\n",
       "    <tr>\n",
       "      <th>17</th>\n",
       "      <td>(kidney loop of Henle thick ascending limb epithelial cell, leukocyte, kidney proximal convoluted tubule epithelial cell)</td>\n",
       "      <td>6.276679e-12</td>\n",
       "    </tr>\n",
       "    <tr>\n",
       "      <th>18</th>\n",
       "      <td>(kidney loop of Henle thick ascending limb epithelial cell, leukocyte, kidney proximal convoluted tubule epithelial cell, endothelial cell)</td>\n",
       "      <td>2.705346e-09</td>\n",
       "    </tr>\n",
       "  </tbody>\n",
       "</table>\n",
       "</div>"
      ],
      "text/plain": [
       "                                                                                                                                       itemsets  \\\n",
       "16             (kidney loop of Henle thick ascending limb epithelial cell, kidney proximal convoluted tubule epithelial cell, endothelial cell)   \n",
       "17                    (kidney loop of Henle thick ascending limb epithelial cell, leukocyte, kidney proximal convoluted tubule epithelial cell)   \n",
       "18  (kidney loop of Henle thick ascending limb epithelial cell, leukocyte, kidney proximal convoluted tubule epithelial cell, endothelial cell)   \n",
       "\n",
       "    corrected_p_values  \n",
       "16        2.705346e-09  \n",
       "17        6.276679e-12  \n",
       "18        2.705346e-09  "
      ]
     },
     "execution_count": 32,
     "metadata": {},
     "output_type": "execute_result"
    }
   ],
   "source": [
    "fp1"
   ]
  },
  {
   "cell_type": "code",
   "execution_count": 43,
   "id": "a10e0100-8b72-4249-a0d7-5cd9acbe489e",
   "metadata": {},
   "outputs": [],
   "source": [
    "ct = 'leukocyte'\n",
    "fp0_dist, fp1_dist = multi_sp.differential_analysis_dist(ct=ct,\n",
    "                                               datasets=['normal', 'diabetic kidney disease'],\n",
    "                                               min_support=0.1\n",
    "                                              )"
   ]
  },
  {
   "cell_type": "code",
   "execution_count": 44,
   "id": "86bb99cd-092f-4bf1-a462-ea920d0fb3c9",
   "metadata": {},
   "outputs": [
    {
     "data": {
      "text/html": [
       "<div>\n",
       "<style scoped>\n",
       "    .dataframe tbody tr th:only-of-type {\n",
       "        vertical-align: middle;\n",
       "    }\n",
       "\n",
       "    .dataframe tbody tr th {\n",
       "        vertical-align: top;\n",
       "    }\n",
       "\n",
       "    .dataframe thead th {\n",
       "        text-align: right;\n",
       "    }\n",
       "</style>\n",
       "<table border=\"1\" class=\"dataframe\">\n",
       "  <thead>\n",
       "    <tr style=\"text-align: right;\">\n",
       "      <th></th>\n",
       "      <th>itemsets</th>\n",
       "      <th>corrected_p_values</th>\n",
       "    </tr>\n",
       "  </thead>\n",
       "  <tbody>\n",
       "    <tr>\n",
       "      <th>0</th>\n",
       "      <td>(macrophage, kidney proximal convoluted tubule epithelial cell)</td>\n",
       "      <td>1.113583e-10</td>\n",
       "    </tr>\n",
       "    <tr>\n",
       "      <th>4</th>\n",
       "      <td>(leukocyte, macrophage, kidney proximal convoluted tubule epithelial cell)</td>\n",
       "      <td>2.278153e-07</td>\n",
       "    </tr>\n",
       "    <tr>\n",
       "      <th>5</th>\n",
       "      <td>(macrophage, kidney proximal convoluted tubule epithelial cell, endothelial cell)</td>\n",
       "      <td>1.113583e-10</td>\n",
       "    </tr>\n",
       "    <tr>\n",
       "      <th>26</th>\n",
       "      <td>(leukocyte, macrophage, kidney proximal convoluted tubule epithelial cell, endothelial cell)</td>\n",
       "      <td>2.278153e-07</td>\n",
       "    </tr>\n",
       "  </tbody>\n",
       "</table>\n",
       "</div>"
      ],
      "text/plain": [
       "                                                                                        itemsets  \\\n",
       "0                                (macrophage, kidney proximal convoluted tubule epithelial cell)   \n",
       "4                     (leukocyte, macrophage, kidney proximal convoluted tubule epithelial cell)   \n",
       "5              (macrophage, kidney proximal convoluted tubule epithelial cell, endothelial cell)   \n",
       "26  (leukocyte, macrophage, kidney proximal convoluted tubule epithelial cell, endothelial cell)   \n",
       "\n",
       "    corrected_p_values  \n",
       "0         1.113583e-10  \n",
       "4         2.278153e-07  \n",
       "5         1.113583e-10  \n",
       "26        2.278153e-07  "
      ]
     },
     "execution_count": 44,
     "metadata": {},
     "output_type": "execute_result"
    }
   ],
   "source": [
    "fp0_dist"
   ]
  },
  {
   "cell_type": "code",
   "execution_count": 45,
   "id": "fffa4e6b-ac1a-4608-8cbb-d23e9eb8aa38",
   "metadata": {},
   "outputs": [
    {
     "data": {
      "text/html": [
       "<div>\n",
       "<style scoped>\n",
       "    .dataframe tbody tr th:only-of-type {\n",
       "        vertical-align: middle;\n",
       "    }\n",
       "\n",
       "    .dataframe tbody tr th {\n",
       "        vertical-align: top;\n",
       "    }\n",
       "\n",
       "    .dataframe thead th {\n",
       "        text-align: right;\n",
       "    }\n",
       "</style>\n",
       "<table border=\"1\" class=\"dataframe\">\n",
       "  <thead>\n",
       "    <tr style=\"text-align: right;\">\n",
       "      <th></th>\n",
       "      <th>itemsets</th>\n",
       "      <th>corrected_p_values</th>\n",
       "    </tr>\n",
       "  </thead>\n",
       "  <tbody>\n",
       "  </tbody>\n",
       "</table>\n",
       "</div>"
      ],
      "text/plain": [
       "Empty DataFrame\n",
       "Columns: [itemsets, corrected_p_values]\n",
       "Index: []"
      ]
     },
     "execution_count": 45,
     "metadata": {},
     "output_type": "execute_result"
    }
   ],
   "source": [
    "fp1_dist"
   ]
  },
  {
   "cell_type": "code",
   "execution_count": null,
   "id": "423244b9-8fd9-4f1b-90f8-8abaf08e84f3",
   "metadata": {},
   "outputs": [],
   "source": []
  },
  {
   "cell_type": "code",
   "execution_count": null,
   "id": "06d6b28b-a2be-43ab-bf80-9b8fc4c07bb3",
   "metadata": {},
   "outputs": [],
   "source": []
  }
 ],
 "metadata": {
  "kernelspec": {
   "display_name": "scfind_py",
   "language": "python",
   "name": "scfind_py"
  },
  "language_info": {
   "codemirror_mode": {
    "name": "ipython",
    "version": 3
   },
   "file_extension": ".py",
   "mimetype": "text/x-python",
   "name": "python",
   "nbconvert_exporter": "python",
   "pygments_lexer": "ipython3",
   "version": "3.8.18"
  }
 },
 "nbformat": 4,
 "nbformat_minor": 5
}
