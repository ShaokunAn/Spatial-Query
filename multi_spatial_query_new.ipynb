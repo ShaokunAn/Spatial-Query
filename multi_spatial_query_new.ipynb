{
 "cells": [
  {
   "cell_type": "code",
   "execution_count": 1,
   "id": "eea8315c-da1a-4183-b585-9b5f3d85af34",
   "metadata": {},
   "outputs": [],
   "source": [
    "from SpatialQuery.spatial_query import spatial_query\n",
    "from SpatialQuery.spatial_query_multiple_fov import spatial_query_multi\n",
    "import os\n",
    "import anndata as ad\n",
    "import pandas as pd\n",
    "import time\n",
    "pd.set_option('display.max_colwidth', 1000)"
   ]
  },
  {
   "cell_type": "code",
   "execution_count": 2,
   "id": "c70b9a31-55b3-470b-aabf-9edb3400aab6",
   "metadata": {},
   "outputs": [],
   "source": [
    "data_path = \"/Users/sa3520/BWH/spatial query/python/data/CZI_kidney\""
   ]
  },
  {
   "cell_type": "code",
   "execution_count": 3,
   "id": "490b8864-6ee8-4ab0-9f3a-c1d66c079a3d",
   "metadata": {},
   "outputs": [],
   "source": [
    "data_files = os.listdir(data_path)"
   ]
  },
  {
   "cell_type": "code",
   "execution_count": 4,
   "id": "4f184867-037e-48a7-afaa-4dc765793267",
   "metadata": {},
   "outputs": [],
   "source": [
    "adatas = [ad.read_h5ad(os.path.join(data_path, data)) for data in data_files]"
   ]
  },
  {
   "cell_type": "code",
   "execution_count": 5,
   "id": "39e3d2ec-3f1c-4ea0-b9ea-6e805095a8be",
   "metadata": {},
   "outputs": [],
   "source": [
    "spatial_key = 'X_spatial'\n",
    "label_key = 'cell_type'\n",
    "disease_key = 'disease'"
   ]
  },
  {
   "cell_type": "code",
   "execution_count": 6,
   "id": "f147c41c-a8ae-42af-b895-1e5d608bb460",
   "metadata": {},
   "outputs": [
    {
     "name": "stdout",
     "output_type": "stream",
     "text": [
      "['normal', 'autosomal dominant polycystic kidney disease', 'diabetic kidney disease']\n"
     ]
    }
   ],
   "source": [
    "disease_list = [adata.obs[disease_key].unique()[0] for adata in adatas]\n",
    "disease_list = list(set(disease_list))\n",
    "print(disease_list)"
   ]
  },
  {
   "cell_type": "code",
   "execution_count": 7,
   "id": "5d8736a0-364a-4752-bd96-4c2e5eae28bb",
   "metadata": {},
   "outputs": [],
   "source": [
    "disease_normal_adatas = [adata for adata in adatas if adata.obs[disease_key].unique()[0]=='normal']\n",
    "disease_diabetic_adatas = [adata for adata in adatas if adata.obs[disease_key].unique()[0]=='diabetic kidney disease']"
   ]
  },
  {
   "cell_type": "code",
   "execution_count": 8,
   "id": "f3bb72ff-cd9a-4fc5-81dc-1718ba9c3f79",
   "metadata": {},
   "outputs": [
    {
     "name": "stdout",
     "output_type": "stream",
     "text": [
      "34\n",
      "26\n"
     ]
    }
   ],
   "source": [
    "print(len(disease_normal_adatas))\n",
    "print(len(disease_diabetic_adatas))"
   ]
  },
  {
   "cell_type": "code",
   "execution_count": 9,
   "id": "b50d80a3-cbbb-4305-bb9b-35eca31db5a9",
   "metadata": {},
   "outputs": [],
   "source": [
    "datasets = ['normal'] * len(disease_normal_adatas) + ['diabetic kidney disease'] * len(disease_diabetic_adatas)"
   ]
  },
  {
   "cell_type": "code",
   "execution_count": 10,
   "id": "6bb8d311-a9e9-49d2-85bf-92e8429f44a1",
   "metadata": {
    "scrolled": true
   },
   "outputs": [
    {
     "name": "stdout",
     "output_type": "stream",
     "text": [
      "1499580\n"
     ]
    }
   ],
   "source": [
    "n_obs_sum = 0\n",
    "for adata in disease_normal_adatas+disease_diabetic_adatas:\n",
    "    # print(adata.n_obs)\n",
    "    n_obs_sum += adata.n_obs\n",
    "print(n_obs_sum)"
   ]
  },
  {
   "cell_type": "code",
   "execution_count": 11,
   "id": "60bcb995-bbb0-446f-9529-015a91fffb1c",
   "metadata": {},
   "outputs": [
    {
     "data": {
      "text/plain": [
       "cell_type\n",
       "kidney proximal convoluted tubule epithelial cell            532273\n",
       "endothelial cell                                             399542\n",
       "leukocyte                                                    202569\n",
       "kidney loop of Henle thick ascending limb epithelial cell    177504\n",
       "macrophage                                                    48470\n",
       "kidney distal convoluted tubule epithelial cell               43769\n",
       "kidney collecting duct principal cell                         33842\n",
       "blood vessel smooth muscle cell                               26774\n",
       "kidney interstitial fibroblast                                16220\n",
       "kidney collecting duct intercalated cell                       8651\n",
       "podocyte                                                       6423\n",
       "kidney granular cell                                           1448\n",
       "mesangial cell                                                 1294\n",
       "macula densa epithelial cell                                    801\n",
       "Name: count, dtype: int64"
      ]
     },
     "execution_count": 11,
     "metadata": {},
     "output_type": "execute_result"
    }
   ],
   "source": [
    "cell_types = [adata.obs[label_key] for adata in disease_normal_adatas+disease_diabetic_adatas]\n",
    "cell_types = pd.concat(cell_types)\n",
    "cell_types.value_counts()"
   ]
  },
  {
   "cell_type": "code",
   "execution_count": 12,
   "id": "c8138c74-790b-4d5e-87bd-fa9279d83ec6",
   "metadata": {},
   "outputs": [],
   "source": [
    "# Initialize spatial query for multiple datasets\n",
    "\n",
    "multi_sp = spatial_query_multi(adatas=disease_normal_adatas+disease_diabetic_adatas,\n",
    "                               datasets=datasets, \n",
    "                               spatial_key=spatial_key,\n",
    "                               label_key=label_key,\n",
    "                               leaf_size=10)"
   ]
  },
  {
   "cell_type": "code",
   "execution_count": 13,
   "id": "473597ca-7237-4a2e-bfbe-a708d7a7f15b",
   "metadata": {},
   "outputs": [],
   "source": [
    "num_ct_normal = []\n",
    "frac_ct_normal = []\n",
    "import numpy as np\n",
    "for i, adata in enumerate(disease_normal_adatas):\n",
    "    n_podo = np.sum(adata.obs[label_key]=='podocyte')\n",
    "    n = adata.n_obs\n",
    "    frac_ct_normal.append(n_podo/n)\n"
   ]
  },
  {
   "cell_type": "code",
   "execution_count": 14,
   "id": "d9ccea22-ba2c-4c3f-8538-c25d04388514",
   "metadata": {},
   "outputs": [],
   "source": [
    "num_ct_dkd = []\n",
    "frac_ct_dkd = []\n",
    "import numpy as np\n",
    "for i, adata in enumerate(disease_diabetic_adatas):\n",
    "    n_podo = np.sum(adata.obs[label_key]=='podocyte')\n",
    "    n = adata.n_obs\n",
    "    frac_ct_dkd.append(n_podo/n)\n"
   ]
  },
  {
   "cell_type": "code",
   "execution_count": 15,
   "id": "69dcf4a3-e0af-434c-96f6-9376858941f3",
   "metadata": {},
   "outputs": [
    {
     "data": {
      "text/plain": [
       "0.0031815312255177573"
      ]
     },
     "execution_count": 15,
     "metadata": {},
     "output_type": "execute_result"
    }
   ],
   "source": [
    "np.mean(frac_ct_normal)"
   ]
  },
  {
   "cell_type": "code",
   "execution_count": 16,
   "id": "86a86b90-42ef-4723-808e-5fe3fe6eee7a",
   "metadata": {},
   "outputs": [
    {
     "data": {
      "text/plain": [
       "0.002676564647493231"
      ]
     },
     "execution_count": 16,
     "metadata": {},
     "output_type": "execute_result"
    }
   ],
   "source": [
    "np.median(frac_ct_normal)"
   ]
  },
  {
   "cell_type": "code",
   "execution_count": 17,
   "id": "fdaba5ec-c192-4921-aa93-2c7ddc6b2b1b",
   "metadata": {},
   "outputs": [
    {
     "data": {
      "text/plain": [
       "0.006462492154921834"
      ]
     },
     "execution_count": 17,
     "metadata": {},
     "output_type": "execute_result"
    }
   ],
   "source": [
    "np.mean(frac_ct_dkd)"
   ]
  },
  {
   "cell_type": "code",
   "execution_count": 18,
   "id": "729498a7-9d85-47a7-84f8-052f0241a2d8",
   "metadata": {},
   "outputs": [
    {
     "data": {
      "text/plain": [
       "0.005951170754855921"
      ]
     },
     "execution_count": 18,
     "metadata": {},
     "output_type": "execute_result"
    }
   ],
   "source": [
    "np.median(frac_ct_dkd)"
   ]
  },
  {
   "cell_type": "code",
   "execution_count": 19,
   "id": "d895c5d8-9783-40af-ba7a-3f99699dec43",
   "metadata": {},
   "outputs": [
    {
     "data": {
      "text/plain": [
       "AAAACACAATACGT    normal\n",
       "AAAACAGACACTTA    normal\n",
       "AAAACGAGAGCACT    normal\n",
       "AAAACTTCAAAGGG    normal\n",
       "AAAAGCATGCGGAT    normal\n",
       "                   ...  \n",
       "TTTGCCATTATTGC    normal\n",
       "TTTGGTGTGCGCCG    normal\n",
       "TTTGTTATGGTTGC    normal\n",
       "TTTTAAACGAGCAT    normal\n",
       "TTTTAGCGCAGTTG    normal\n",
       "Name: disease, Length: 21181, dtype: category\n",
       "Categories (1, object): ['normal']"
      ]
     },
     "execution_count": 19,
     "metadata": {},
     "output_type": "execute_result"
    }
   ],
   "source": [
    "disease_normal_adatas[0].obs['disease']"
   ]
  },
  {
   "cell_type": "code",
   "execution_count": 20,
   "id": "4e42d513-e51c-4dfe-9210-fbdd31a9e69d",
   "metadata": {},
   "outputs": [],
   "source": [
    "# ct = 'podocyte'\n",
    "# fp_knn = multi_sp.find_fp_knn(ct=ct, dataset='normal', k=20, dis_duplicates=False, min_support=0.4)"
   ]
  },
  {
   "cell_type": "code",
   "execution_count": 21,
   "id": "e4e64d68-a67a-4747-b79a-62fd0d0b8165",
   "metadata": {},
   "outputs": [],
   "source": [
    "# fp_knn"
   ]
  },
  {
   "cell_type": "code",
   "execution_count": 22,
   "id": "daddc06a-aab2-4035-8d60-98168dd680cd",
   "metadata": {},
   "outputs": [],
   "source": [
    "# ct = 'leukocyte'\n",
    "# fp_dist = multi_sp.find_fp_dist(ct=ct, dataset='normal', max_dist=100, dis_duplicates=False, min_support=0.4)"
   ]
  },
  {
   "cell_type": "code",
   "execution_count": 23,
   "id": "b590b95d-b22e-49fe-9fbf-f1b6a70edffc",
   "metadata": {},
   "outputs": [],
   "source": [
    "# fp_dist"
   ]
  },
  {
   "cell_type": "code",
   "execution_count": 24,
   "id": "3d36f3cd-1b3b-47de-a2b7-e6588cd4f757",
   "metadata": {},
   "outputs": [],
   "source": [
    "# ct = 'leukocyte'\n",
    "# motifs = [['kidney loop of Henle thick ascending limb epithelial cell', 'leukocyte', 'endothelial cell', 'kidney proximal convoluted tubule epithelial cell'], \n",
    "#           ['kidney loop of Henle thick ascending limb epithelial cell', 'leukocyte', 'macrophage', 'endothelial cell'],\n",
    "#           ['leukocyte', 'macrophage', 'endothelial cell', 'kidney proximal convoluted tubule epithelial cell']]\n",
    "# motif_enrichment_knn = []\n",
    "# for motif in motifs:\n",
    "#     tt = multi_sp.motif_enrichment_knn(ct=ct,\n",
    "#                                        motifs=motif,\n",
    "#                                        dataset='normal',\n",
    "#                                       )\n",
    "#     motif_enrichment_knn.append(tt)"
   ]
  },
  {
   "cell_type": "code",
   "execution_count": 25,
   "id": "3dd889f0-0de2-410a-92fa-8c97a2e69e7a",
   "metadata": {},
   "outputs": [],
   "source": [
    "# motif_enrichment_knn = pd.concat(motif_enrichment_knn)"
   ]
  },
  {
   "cell_type": "code",
   "execution_count": 26,
   "id": "f04c69e6-26ee-4f1a-9e3d-6468cfbb7463",
   "metadata": {},
   "outputs": [],
   "source": [
    "# motif_enrichment_knn"
   ]
  },
  {
   "cell_type": "code",
   "execution_count": 27,
   "id": "8581c379-f457-4473-84b5-26e864db7d71",
   "metadata": {},
   "outputs": [],
   "source": [
    "# ct = 'leukocyte'\n",
    "# motifs = [['kidney loop of Henle thick ascending limb epithelial cell', 'leukocyte', 'endothelial cell', 'kidney proximal convoluted tubule epithelial cell'], \n",
    "#           ['kidney loop of Henle thick ascending limb epithelial cell', 'leukocyte', 'macrophage', 'endothelial cell'],\n",
    "#           ['leukocyte', 'macrophage', 'endothelial cell', 'kidney proximal convoluted tubule epithelial cell']]\n",
    "# motif_enrichment_dist = []\n",
    "# for motif in motifs:\n",
    "#     tt = multi_sp.motif_enrichment_dist(ct=ct, \n",
    "#                                        motifs=motif,\n",
    "#                                        dataset='normal')\n",
    "#     motif_enrichment_dist.append(tt)\n",
    "# motif_enrichement_dist = pd.concat(motif_enrichment_dist)"
   ]
  },
  {
   "cell_type": "code",
   "execution_count": 28,
   "id": "91c6ce08-e637-4b08-b435-6d20cd85c56c",
   "metadata": {
    "scrolled": true
   },
   "outputs": [],
   "source": [
    "# motif_enrichment_dist = pd.concat(motif_enrichment_dist)"
   ]
  },
  {
   "cell_type": "code",
   "execution_count": 29,
   "id": "41e64263-00ff-4207-920b-85e28235a36a",
   "metadata": {},
   "outputs": [],
   "source": [
    "# motif_enrichment_dist"
   ]
  },
  {
   "cell_type": "code",
   "execution_count": 56,
   "id": "316c6ab1-3a17-48e3-9e7c-307b4dcdc9d6",
   "metadata": {},
   "outputs": [],
   "source": [
    "ct = 'podocyte'\n",
    "fp0, fp1 = multi_sp.differential_analysis_knn(ct=ct,\n",
    "                                              k=35,\n",
    "                                              datasets=['normal', 'diabetic kidney disease'], \n",
    "                                              min_support=0.3,\n",
    ")"
   ]
  },
  {
   "cell_type": "code",
   "execution_count": 57,
   "id": "a005c99a-c995-4354-bb79-80aeb65553f5",
   "metadata": {},
   "outputs": [
    {
     "data": {
      "text/html": [
       "<div>\n",
       "<style scoped>\n",
       "    .dataframe tbody tr th:only-of-type {\n",
       "        vertical-align: middle;\n",
       "    }\n",
       "\n",
       "    .dataframe tbody tr th {\n",
       "        vertical-align: top;\n",
       "    }\n",
       "\n",
       "    .dataframe thead th {\n",
       "        text-align: right;\n",
       "    }\n",
       "</style>\n",
       "<table border=\"1\" class=\"dataframe\">\n",
       "  <thead>\n",
       "    <tr style=\"text-align: right;\">\n",
       "      <th></th>\n",
       "      <th>itemsets</th>\n",
       "      <th>corrected_p_values</th>\n",
       "    </tr>\n",
       "  </thead>\n",
       "  <tbody>\n",
       "  </tbody>\n",
       "</table>\n",
       "</div>"
      ],
      "text/plain": [
       "Empty DataFrame\n",
       "Columns: [itemsets, corrected_p_values]\n",
       "Index: []"
      ]
     },
     "execution_count": 57,
     "metadata": {},
     "output_type": "execute_result"
    }
   ],
   "source": [
    "fp0"
   ]
  },
  {
   "cell_type": "code",
   "execution_count": 58,
   "id": "0fcc1717-23ba-4f30-a43d-f7c63e16bb1d",
   "metadata": {},
   "outputs": [
    {
     "data": {
      "text/html": [
       "<div>\n",
       "<style scoped>\n",
       "    .dataframe tbody tr th:only-of-type {\n",
       "        vertical-align: middle;\n",
       "    }\n",
       "\n",
       "    .dataframe tbody tr th {\n",
       "        vertical-align: top;\n",
       "    }\n",
       "\n",
       "    .dataframe thead th {\n",
       "        text-align: right;\n",
       "    }\n",
       "</style>\n",
       "<table border=\"1\" class=\"dataframe\">\n",
       "  <thead>\n",
       "    <tr style=\"text-align: right;\">\n",
       "      <th></th>\n",
       "      <th>itemsets</th>\n",
       "      <th>corrected_p_values</th>\n",
       "    </tr>\n",
       "  </thead>\n",
       "  <tbody>\n",
       "    <tr>\n",
       "      <th>0</th>\n",
       "      <td>(endothelial cell, mesangial cell)</td>\n",
       "      <td>2.815882e-12</td>\n",
       "    </tr>\n",
       "    <tr>\n",
       "      <th>1</th>\n",
       "      <td>(podocyte, endothelial cell, mesangial cell)</td>\n",
       "      <td>2.815882e-12</td>\n",
       "    </tr>\n",
       "    <tr>\n",
       "      <th>2</th>\n",
       "      <td>(mesangial cell)</td>\n",
       "      <td>2.815882e-12</td>\n",
       "    </tr>\n",
       "    <tr>\n",
       "      <th>3</th>\n",
       "      <td>(podocyte, mesangial cell)</td>\n",
       "      <td>2.815882e-12</td>\n",
       "    </tr>\n",
       "  </tbody>\n",
       "</table>\n",
       "</div>"
      ],
      "text/plain": [
       "                                       itemsets  corrected_p_values\n",
       "0            (endothelial cell, mesangial cell)        2.815882e-12\n",
       "1  (podocyte, endothelial cell, mesangial cell)        2.815882e-12\n",
       "2                              (mesangial cell)        2.815882e-12\n",
       "3                    (podocyte, mesangial cell)        2.815882e-12"
      ]
     },
     "execution_count": 58,
     "metadata": {},
     "output_type": "execute_result"
    }
   ],
   "source": [
    "fp1"
   ]
  },
  {
   "cell_type": "code",
   "execution_count": 33,
   "id": "a2633115-6f1d-4a9a-aa61-21d91e723ba2",
   "metadata": {},
   "outputs": [
    {
     "name": "stdout",
     "output_type": "stream",
     "text": [
      "[['leukocyte', 'endothelial cell'], ['leukocyte'], ['leukocyte', 'podocyte'], ['leukocyte', 'endothelial cell', 'podocyte']]\n"
     ]
    }
   ],
   "source": [
    "ct = 'podocyte'\n",
    "min_support = 0.3\n",
    "motifs = [list(item) for item in fp1['itemsets']]\n",
    "print(motifs)\n",
    "motif_enrichment_knn = []\n",
    "for motif in motifs:\n",
    "    tt = multi_sp.motif_enrichment_knn(ct=ct, \n",
    "                                       motifs=motif, \n",
    "                                       dataset='diabetic kidney disease', \n",
    "                                       min_support=min_support)\n",
    "    motif_enrichment_knn.append(tt)\n",
    "motif_enrichment_knn = pd.concat(motif_enrichment_knn)"
   ]
  },
  {
   "cell_type": "code",
   "execution_count": 34,
   "id": "fdceb506-f682-46d7-97d6-adba9061a630",
   "metadata": {},
   "outputs": [
    {
     "data": {
      "text/html": [
       "<div>\n",
       "<style scoped>\n",
       "    .dataframe tbody tr th:only-of-type {\n",
       "        vertical-align: middle;\n",
       "    }\n",
       "\n",
       "    .dataframe tbody tr th {\n",
       "        vertical-align: top;\n",
       "    }\n",
       "\n",
       "    .dataframe thead th {\n",
       "        text-align: right;\n",
       "    }\n",
       "</style>\n",
       "<table border=\"1\" class=\"dataframe\">\n",
       "  <thead>\n",
       "    <tr style=\"text-align: right;\">\n",
       "      <th></th>\n",
       "      <th>center</th>\n",
       "      <th>motifs</th>\n",
       "      <th>n_center_motif</th>\n",
       "      <th>n_center</th>\n",
       "      <th>n_motif</th>\n",
       "      <th>p-val</th>\n",
       "    </tr>\n",
       "  </thead>\n",
       "  <tbody>\n",
       "    <tr>\n",
       "      <th>0</th>\n",
       "      <td>podocyte</td>\n",
       "      <td>[endothelial cell, leukocyte]</td>\n",
       "      <td>2788</td>\n",
       "      <td>3762</td>\n",
       "      <td>460594</td>\n",
       "      <td>0.917097</td>\n",
       "    </tr>\n",
       "    <tr>\n",
       "      <th>0</th>\n",
       "      <td>podocyte</td>\n",
       "      <td>[leukocyte]</td>\n",
       "      <td>2822</td>\n",
       "      <td>3762</td>\n",
       "      <td>484277</td>\n",
       "      <td>1.000000</td>\n",
       "    </tr>\n",
       "    <tr>\n",
       "      <th>0</th>\n",
       "      <td>podocyte</td>\n",
       "      <td>[leukocyte, podocyte]</td>\n",
       "      <td>2757</td>\n",
       "      <td>3762</td>\n",
       "      <td>17598</td>\n",
       "      <td>0.000000</td>\n",
       "    </tr>\n",
       "    <tr>\n",
       "      <th>0</th>\n",
       "      <td>podocyte</td>\n",
       "      <td>[endothelial cell, leukocyte, podocyte]</td>\n",
       "      <td>2724</td>\n",
       "      <td>3762</td>\n",
       "      <td>17229</td>\n",
       "      <td>0.000000</td>\n",
       "    </tr>\n",
       "  </tbody>\n",
       "</table>\n",
       "</div>"
      ],
      "text/plain": [
       "     center                                   motifs  n_center_motif  \\\n",
       "0  podocyte            [endothelial cell, leukocyte]            2788   \n",
       "0  podocyte                              [leukocyte]            2822   \n",
       "0  podocyte                    [leukocyte, podocyte]            2757   \n",
       "0  podocyte  [endothelial cell, leukocyte, podocyte]            2724   \n",
       "\n",
       "   n_center  n_motif     p-val  \n",
       "0      3762   460594  0.917097  \n",
       "0      3762   484277  1.000000  \n",
       "0      3762    17598  0.000000  \n",
       "0      3762    17229  0.000000  "
      ]
     },
     "execution_count": 34,
     "metadata": {},
     "output_type": "execute_result"
    }
   ],
   "source": [
    "motif_enrichment_knn"
   ]
  },
  {
   "cell_type": "code",
   "execution_count": 35,
   "id": "a10e0100-8b72-4249-a0d7-5cd9acbe489e",
   "metadata": {},
   "outputs": [
    {
     "name": "stdout",
     "output_type": "stream",
     "text": [
      "Time: 1.6046881675720215 seconds\n"
     ]
    }
   ],
   "source": [
    "ct = 'podocyte'\n",
    "min_support = 0.3\n",
    "start_time = time.time()\n",
    "fp0_dist, fp1_dist = multi_sp.differential_analysis_dist(ct=ct, \n",
    "                                                         datasets=['normal', 'diabetic kidney disease'],\n",
    "                                                         min_support=min_support\n",
    "                                              )\n",
    "end_time =time.time()\n",
    "print(f\"Time: {end_time-start_time} seconds\")"
   ]
  },
  {
   "cell_type": "code",
   "execution_count": 36,
   "id": "86bb99cd-092f-4bf1-a462-ea920d0fb3c9",
   "metadata": {},
   "outputs": [
    {
     "data": {
      "text/html": [
       "<div>\n",
       "<style scoped>\n",
       "    .dataframe tbody tr th:only-of-type {\n",
       "        vertical-align: middle;\n",
       "    }\n",
       "\n",
       "    .dataframe tbody tr th {\n",
       "        vertical-align: top;\n",
       "    }\n",
       "\n",
       "    .dataframe thead th {\n",
       "        text-align: right;\n",
       "    }\n",
       "</style>\n",
       "<table border=\"1\" class=\"dataframe\">\n",
       "  <thead>\n",
       "    <tr style=\"text-align: right;\">\n",
       "      <th></th>\n",
       "      <th>itemsets</th>\n",
       "      <th>corrected_p_values</th>\n",
       "    </tr>\n",
       "  </thead>\n",
       "  <tbody>\n",
       "    <tr>\n",
       "      <th>0</th>\n",
       "      <td>(kidney proximal convoluted tubule epithelial cell)</td>\n",
       "      <td>1.298507e-11</td>\n",
       "    </tr>\n",
       "    <tr>\n",
       "      <th>1</th>\n",
       "      <td>(kidney proximal convoluted tubule epithelial cell, endothelial cell, podocyte)</td>\n",
       "      <td>1.298507e-11</td>\n",
       "    </tr>\n",
       "    <tr>\n",
       "      <th>2</th>\n",
       "      <td>(kidney proximal convoluted tubule epithelial cell, podocyte)</td>\n",
       "      <td>1.298507e-11</td>\n",
       "    </tr>\n",
       "    <tr>\n",
       "      <th>3</th>\n",
       "      <td>(kidney proximal convoluted tubule epithelial cell, endothelial cell)</td>\n",
       "      <td>1.298507e-11</td>\n",
       "    </tr>\n",
       "  </tbody>\n",
       "</table>\n",
       "</div>"
      ],
      "text/plain": [
       "                                                                          itemsets  \\\n",
       "0                              (kidney proximal convoluted tubule epithelial cell)   \n",
       "1  (kidney proximal convoluted tubule epithelial cell, endothelial cell, podocyte)   \n",
       "2                    (kidney proximal convoluted tubule epithelial cell, podocyte)   \n",
       "3            (kidney proximal convoluted tubule epithelial cell, endothelial cell)   \n",
       "\n",
       "   corrected_p_values  \n",
       "0        1.298507e-11  \n",
       "1        1.298507e-11  \n",
       "2        1.298507e-11  \n",
       "3        1.298507e-11  "
      ]
     },
     "execution_count": 36,
     "metadata": {},
     "output_type": "execute_result"
    }
   ],
   "source": [
    "fp0_dist"
   ]
  },
  {
   "cell_type": "code",
   "execution_count": 37,
   "id": "fffa4e6b-ac1a-4608-8cbb-d23e9eb8aa38",
   "metadata": {},
   "outputs": [
    {
     "data": {
      "text/html": [
       "<div>\n",
       "<style scoped>\n",
       "    .dataframe tbody tr th:only-of-type {\n",
       "        vertical-align: middle;\n",
       "    }\n",
       "\n",
       "    .dataframe tbody tr th {\n",
       "        vertical-align: top;\n",
       "    }\n",
       "\n",
       "    .dataframe thead th {\n",
       "        text-align: right;\n",
       "    }\n",
       "</style>\n",
       "<table border=\"1\" class=\"dataframe\">\n",
       "  <thead>\n",
       "    <tr style=\"text-align: right;\">\n",
       "      <th></th>\n",
       "      <th>itemsets</th>\n",
       "      <th>corrected_p_values</th>\n",
       "    </tr>\n",
       "  </thead>\n",
       "  <tbody>\n",
       "    <tr>\n",
       "      <th>0</th>\n",
       "      <td>(mesangial cell, endothelial cell)</td>\n",
       "      <td>2.223065e-12</td>\n",
       "    </tr>\n",
       "    <tr>\n",
       "      <th>1</th>\n",
       "      <td>(mesangial cell)</td>\n",
       "      <td>2.223065e-12</td>\n",
       "    </tr>\n",
       "    <tr>\n",
       "      <th>2</th>\n",
       "      <td>(mesangial cell, podocyte)</td>\n",
       "      <td>2.223065e-12</td>\n",
       "    </tr>\n",
       "    <tr>\n",
       "      <th>3</th>\n",
       "      <td>(mesangial cell, endothelial cell, podocyte)</td>\n",
       "      <td>2.223065e-12</td>\n",
       "    </tr>\n",
       "  </tbody>\n",
       "</table>\n",
       "</div>"
      ],
      "text/plain": [
       "                                       itemsets  corrected_p_values\n",
       "0            (mesangial cell, endothelial cell)        2.223065e-12\n",
       "1                              (mesangial cell)        2.223065e-12\n",
       "2                    (mesangial cell, podocyte)        2.223065e-12\n",
       "3  (mesangial cell, endothelial cell, podocyte)        2.223065e-12"
      ]
     },
     "execution_count": 37,
     "metadata": {},
     "output_type": "execute_result"
    }
   ],
   "source": [
    "fp1_dist"
   ]
  },
  {
   "cell_type": "code",
   "execution_count": 42,
   "id": "423244b9-8fd9-4f1b-90f8-8abaf08e84f3",
   "metadata": {},
   "outputs": [
    {
     "name": "stdout",
     "output_type": "stream",
     "text": [
      "[['kidney proximal convoluted tubule epithelial cell'], ['kidney proximal convoluted tubule epithelial cell', 'endothelial cell', 'podocyte'], ['kidney proximal convoluted tubule epithelial cell', 'podocyte'], ['kidney proximal convoluted tubule epithelial cell', 'endothelial cell']]\n",
      "Time: 288.863835811615 seconds\n"
     ]
    }
   ],
   "source": [
    "ct = 'podocyte'\n",
    "min_support = 0.3\n",
    "motifs = [list(item) for item in fp0_dist['itemsets']]\n",
    "print(motifs)\n",
    "motif_enrichment_dist_0 = []\n",
    "start_time = time.time()\n",
    "for motif in motifs:\n",
    "    tt = multi_sp.motif_enrichment_dist(ct=ct, \n",
    "                                        motifs=motif, \n",
    "                                        dataset='normal', \n",
    "                                        min_support=min_support)\n",
    "    motif_enrichment_dist_0.append(tt)\n",
    "end_time = time.time()\n",
    "print(f\"Time: {end_time-start_time} seconds\")\n",
    "motif_enrichment_dist_0 = pd.concat(motif_enrichment_dist_0)"
   ]
  },
  {
   "cell_type": "code",
   "execution_count": 39,
   "id": "09175ee4-9d8a-4be8-84b5-ee84d027c121",
   "metadata": {},
   "outputs": [
    {
     "data": {
      "text/html": [
       "<div>\n",
       "<style scoped>\n",
       "    .dataframe tbody tr th:only-of-type {\n",
       "        vertical-align: middle;\n",
       "    }\n",
       "\n",
       "    .dataframe tbody tr th {\n",
       "        vertical-align: top;\n",
       "    }\n",
       "\n",
       "    .dataframe thead th {\n",
       "        text-align: right;\n",
       "    }\n",
       "</style>\n",
       "<table border=\"1\" class=\"dataframe\">\n",
       "  <thead>\n",
       "    <tr style=\"text-align: right;\">\n",
       "      <th></th>\n",
       "      <th>center</th>\n",
       "      <th>motifs</th>\n",
       "      <th>n_center_motif</th>\n",
       "      <th>n_center</th>\n",
       "      <th>n_motif</th>\n",
       "      <th>p-val</th>\n",
       "    </tr>\n",
       "  </thead>\n",
       "  <tbody>\n",
       "    <tr>\n",
       "      <th>0</th>\n",
       "      <td>podocyte</td>\n",
       "      <td>[kidney proximal convoluted tubule epithelial cell]</td>\n",
       "      <td>2416</td>\n",
       "      <td>2661</td>\n",
       "      <td>625009</td>\n",
       "      <td>2.680844e-117</td>\n",
       "    </tr>\n",
       "    <tr>\n",
       "      <th>0</th>\n",
       "      <td>podocyte</td>\n",
       "      <td>[endothelial cell, kidney proximal convoluted tubule epithelial cell, podocyte]</td>\n",
       "      <td>2410</td>\n",
       "      <td>2661</td>\n",
       "      <td>29889</td>\n",
       "      <td>0.000000e+00</td>\n",
       "    </tr>\n",
       "    <tr>\n",
       "      <th>0</th>\n",
       "      <td>podocyte</td>\n",
       "      <td>[kidney proximal convoluted tubule epithelial cell, podocyte]</td>\n",
       "      <td>2416</td>\n",
       "      <td>2661</td>\n",
       "      <td>30143</td>\n",
       "      <td>0.000000e+00</td>\n",
       "    </tr>\n",
       "    <tr>\n",
       "      <th>0</th>\n",
       "      <td>podocyte</td>\n",
       "      <td>[endothelial cell, kidney proximal convoluted tubule epithelial cell]</td>\n",
       "      <td>2410</td>\n",
       "      <td>2661</td>\n",
       "      <td>608844</td>\n",
       "      <td>4.190490e-134</td>\n",
       "    </tr>\n",
       "  </tbody>\n",
       "</table>\n",
       "</div>"
      ],
      "text/plain": [
       "     center  \\\n",
       "0  podocyte   \n",
       "0  podocyte   \n",
       "0  podocyte   \n",
       "0  podocyte   \n",
       "\n",
       "                                                                            motifs  \\\n",
       "0                              [kidney proximal convoluted tubule epithelial cell]   \n",
       "0  [endothelial cell, kidney proximal convoluted tubule epithelial cell, podocyte]   \n",
       "0                    [kidney proximal convoluted tubule epithelial cell, podocyte]   \n",
       "0            [endothelial cell, kidney proximal convoluted tubule epithelial cell]   \n",
       "\n",
       "   n_center_motif  n_center  n_motif          p-val  \n",
       "0            2416      2661   625009  2.680844e-117  \n",
       "0            2410      2661    29889   0.000000e+00  \n",
       "0            2416      2661    30143   0.000000e+00  \n",
       "0            2410      2661   608844  4.190490e-134  "
      ]
     },
     "execution_count": 39,
     "metadata": {},
     "output_type": "execute_result"
    }
   ],
   "source": [
    "motif_enrichment_dist_0"
   ]
  },
  {
   "cell_type": "code",
   "execution_count": 40,
   "id": "06d6b28b-a2be-43ab-bf80-9b8fc4c07bb3",
   "metadata": {},
   "outputs": [
    {
     "name": "stdout",
     "output_type": "stream",
     "text": [
      "[['mesangial cell', 'endothelial cell'], ['mesangial cell'], ['mesangial cell', 'podocyte'], ['mesangial cell', 'endothelial cell', 'podocyte']]\n"
     ]
    }
   ],
   "source": [
    "ct = 'podocyte'\n",
    "min_support = 0.3\n",
    "motifs = [list(item) for item in fp1_dist['itemsets']]\n",
    "print(motifs)\n",
    "motif_enrichment_dist_1 = []\n",
    "start_time = time.time()\n",
    "for motif in motifs:\n",
    "    tt = multi_sp.motif_enrichment_dist(ct=ct, \n",
    "                                        motifs=motif, \n",
    "                                        dataset='diabetic kidney disease', \n",
    "                                        min_support=min_support)\n",
    "    motif_enrichment_dist_1.append(tt)\n",
    "end_time = time.time()\n",
    "print(f\"Time: {end_time-start_time} seconds\")\n",
    "motif_enrichment_dist_1 = pd.concat(motif_enrichment_dist_1)"
   ]
  },
  {
   "cell_type": "code",
   "execution_count": 41,
   "id": "285d104a-ee64-4a57-8fd2-8f55a28fd566",
   "metadata": {},
   "outputs": [
    {
     "data": {
      "text/html": [
       "<div>\n",
       "<style scoped>\n",
       "    .dataframe tbody tr th:only-of-type {\n",
       "        vertical-align: middle;\n",
       "    }\n",
       "\n",
       "    .dataframe tbody tr th {\n",
       "        vertical-align: top;\n",
       "    }\n",
       "\n",
       "    .dataframe thead th {\n",
       "        text-align: right;\n",
       "    }\n",
       "</style>\n",
       "<table border=\"1\" class=\"dataframe\">\n",
       "  <thead>\n",
       "    <tr style=\"text-align: right;\">\n",
       "      <th></th>\n",
       "      <th>center</th>\n",
       "      <th>motifs</th>\n",
       "      <th>n_center_motif</th>\n",
       "      <th>n_center</th>\n",
       "      <th>n_motif</th>\n",
       "      <th>p-val</th>\n",
       "    </tr>\n",
       "  </thead>\n",
       "  <tbody>\n",
       "    <tr>\n",
       "      <th>0</th>\n",
       "      <td>podocyte</td>\n",
       "      <td>[endothelial cell, mesangial cell]</td>\n",
       "      <td>2647</td>\n",
       "      <td>3762</td>\n",
       "      <td>16862</td>\n",
       "      <td>0.0</td>\n",
       "    </tr>\n",
       "    <tr>\n",
       "      <th>0</th>\n",
       "      <td>podocyte</td>\n",
       "      <td>[mesangial cell]</td>\n",
       "      <td>2650</td>\n",
       "      <td>3762</td>\n",
       "      <td>16882</td>\n",
       "      <td>0.0</td>\n",
       "    </tr>\n",
       "    <tr>\n",
       "      <th>0</th>\n",
       "      <td>podocyte</td>\n",
       "      <td>[mesangial cell, podocyte]</td>\n",
       "      <td>2650</td>\n",
       "      <td>3762</td>\n",
       "      <td>15764</td>\n",
       "      <td>0.0</td>\n",
       "    </tr>\n",
       "    <tr>\n",
       "      <th>0</th>\n",
       "      <td>podocyte</td>\n",
       "      <td>[endothelial cell, mesangial cell, podocyte]</td>\n",
       "      <td>2647</td>\n",
       "      <td>3762</td>\n",
       "      <td>15747</td>\n",
       "      <td>0.0</td>\n",
       "    </tr>\n",
       "  </tbody>\n",
       "</table>\n",
       "</div>"
      ],
      "text/plain": [
       "     center                                        motifs  n_center_motif  \\\n",
       "0  podocyte            [endothelial cell, mesangial cell]            2647   \n",
       "0  podocyte                              [mesangial cell]            2650   \n",
       "0  podocyte                    [mesangial cell, podocyte]            2650   \n",
       "0  podocyte  [endothelial cell, mesangial cell, podocyte]            2647   \n",
       "\n",
       "   n_center  n_motif  p-val  \n",
       "0      3762    16862    0.0  \n",
       "0      3762    16882    0.0  \n",
       "0      3762    15764    0.0  \n",
       "0      3762    15747    0.0  "
      ]
     },
     "execution_count": 41,
     "metadata": {},
     "output_type": "execute_result"
    }
   ],
   "source": [
    "motif_enrichment_dist_1"
   ]
  },
  {
   "cell_type": "code",
   "execution_count": null,
   "id": "4da421bd-3a3f-47ad-b568-688886bd87a0",
   "metadata": {},
   "outputs": [],
   "source": []
  }
 ],
 "metadata": {
  "kernelspec": {
   "display_name": "scfind_py",
   "language": "python",
   "name": "scfind_py"
  },
  "language_info": {
   "codemirror_mode": {
    "name": "ipython",
    "version": 3
   },
   "file_extension": ".py",
   "mimetype": "text/x-python",
   "name": "python",
   "nbconvert_exporter": "python",
   "pygments_lexer": "ipython3",
   "version": "3.8.18"
  }
 },
 "nbformat": 4,
 "nbformat_minor": 5
}
